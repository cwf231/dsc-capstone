{
 "cells": [
  {
   "cell_type": "markdown",
   "metadata": {},
   "source": [
    "- **Name:** Claude Fried\n",
    "- **Pace:** Part-time\n",
    "- **Scheduled project review date/time:** \n",
    "- **Instructor name:** James Irving\n",
    "- **Blog post URL:** "
   ]
  },
  {
   "cell_type": "markdown",
   "metadata": {},
   "source": [
    "### Imports"
   ]
  },
  {
   "cell_type": "code",
   "execution_count": 1,
   "metadata": {},
   "outputs": [],
   "source": [
    "import os\n",
    "import re\n",
    "import pickle\n",
    "import bz2\n",
    "import pandas as pd\n",
    "import numpy as np\n",
    "import seaborn as sns\n",
    "import matplotlib.pyplot as plt\n",
    "\n",
    "from scipy import sparse\n",
    "from sklearn.compose import ColumnTransformer\n",
    "from sklearn.pipeline import Pipeline\n",
    "from sklearn.preprocessing import StandardScaler, OneHotEncoder, LabelEncoder\n",
    "from sklearn.metrics import (classification_report, \n",
    "                             balanced_accuracy_score, \n",
    "                             log_loss)\n",
    "from sklearn.linear_model import RidgeClassifier, SGDClassifier\n",
    "from sklearn.tree import DecisionTreeClassifier\n",
    "\n",
    "import tensorflow as tf\n",
    "from tensorflow.keras import layers\n",
    "from tensorflow.keras import Sequential\n",
    "\n",
    "import baseball_support as bsb\n",
    "from league_player_classes import *"
   ]
  },
  {
   "cell_type": "code",
   "execution_count": 2,
   "metadata": {},
   "outputs": [
    {
     "name": "stdout",
     "output_type": "stream",
     "text": [
      "********************************************************************************\n",
      "*                                /device:GPU:0                                 *\n",
      "********************************************************************************\n"
     ]
    }
   ],
   "source": [
    "%matplotlib inline\n",
    "plt.style.use(['ggplot', 'seaborn-talk'])\n",
    "pd.set_option('display.max_columns', None)\n",
    "\n",
    "# Set colors for plotting.\n",
    "COLORS = {\n",
    "    'blue': '#1f77b4',\n",
    "    'green': '#2eb41f',\n",
    "    'yellow': '#b4b21f',\n",
    "    'red': '#b41f1f',\n",
    "    'purple': '#b41f94',\n",
    "    'grey': '#7d7d7d'\n",
    "}\n",
    "\n",
    "# Set random seed.\n",
    "np.random.seed(2020)\n",
    "tf.random.set_seed(2020)\n",
    "tf.compat.v1.set_random_seed(2020)\n",
    "\n",
    "# Check for device.\n",
    "# os.environ['CUDA_VISIBLE_DEVICES'] = '-1' # Prevents using GPU.\n",
    "print(bsb.headerize(tf.test.gpu_device_name()))"
   ]
  },
  {
   "cell_type": "code",
   "execution_count": 3,
   "metadata": {},
   "outputs": [
    {
     "name": "stdout",
     "output_type": "stream",
     "text": [
      "Loading...\n",
      "Loaded: X_test_processed\n",
      "Loaded: X_train_processed\n",
      "Loaded: y_test_processed\n",
      "Loaded: y_train_processed\n",
      "Loaded: X_preprocessor\n",
      "Loaded: y_preprocessor\n",
      "Complete!\n"
     ]
    },
    {
     "data": {
      "text/plain": [
       "((5897770, 10067), (5897770,), (564198, 10067), (564198,))"
      ]
     },
     "execution_count": 3,
     "metadata": {},
     "output_type": "execute_result"
    }
   ],
   "source": [
    "(X_preprocessor, y_preprocessor, \n",
    " X_train, y_train, X_test, y_test) = bsb.load_modeling_tools()\n",
    "\n",
    "X_train.shape, y_train.shape, X_test.shape, y_test.shape"
   ]
  },
  {
   "cell_type": "markdown",
   "metadata": {},
   "source": [
    "# Model"
   ]
  },
  {
   "cell_type": "markdown",
   "metadata": {},
   "source": [
    "## SKLearn"
   ]
  },
  {
   "cell_type": "markdown",
   "metadata": {},
   "source": [
    "### SGD (Logistic Regression)"
   ]
  },
  {
   "cell_type": "code",
   "execution_count": null,
   "metadata": {},
   "outputs": [],
   "source": [
    "# log_sgd = SGDClassifier(loss='log',\n",
    "#                         random_state=2021)\n",
    "# log_sgd.fit(X_train, y_train)"
   ]
  },
  {
   "cell_type": "code",
   "execution_count": null,
   "metadata": {},
   "outputs": [],
   "source": [
    "# bsb.print_metrics(X_train, \n",
    "#                   y_train, \n",
    "#                   classifier=log_sgd, \n",
    "#                   target_names=y_preprocessor.classes_, \n",
    "#                   heading='SGD: Training Data')\n",
    "# bsb.print_metrics(X_test, \n",
    "#                   y_test, \n",
    "#                   classifier=log_sgd, \n",
    "#                   target_names=y_preprocessor.classes_, \n",
    "#                   heading='SGD: Test Data')"
   ]
  },
  {
   "cell_type": "markdown",
   "metadata": {},
   "source": [
    "### Decision Tree"
   ]
  },
  {
   "cell_type": "code",
   "execution_count": null,
   "metadata": {},
   "outputs": [],
   "source": [
    "# dtc = DecisionTreeClassifier(max_features='auto',\n",
    "#                              max_depth=50,\n",
    "#                              random_state=2021)\n",
    "# dtc.fit(X_train, y_train)"
   ]
  },
  {
   "cell_type": "code",
   "execution_count": null,
   "metadata": {},
   "outputs": [],
   "source": [
    "# bsb.print_metrics(X_train, \n",
    "#                   y_train, \n",
    "#                   classifier=dtc, \n",
    "#                   target_names=y_preprocessor.classes_, \n",
    "#                   heading='DTC: Training Data')\n",
    "# bsb.print_metrics(X_test, \n",
    "#                   y_test, \n",
    "#                   classifier=dtc, \n",
    "#                   target_names=y_preprocessor.classes_, \n",
    "#                   heading='DTC: Test Data')"
   ]
  },
  {
   "cell_type": "markdown",
   "metadata": {},
   "source": [
    "## Tensorflow"
   ]
  },
  {
   "cell_type": "code",
   "execution_count": null,
   "metadata": {},
   "outputs": [],
   "source": [
    "def build_model(X_data_shape, \n",
    "                y_data_shape,\n",
    "                activation='relu',\n",
    "                output_activation='softmax',\n",
    "                optimizer='adam',\n",
    "                loss='categorical_crossentropy'):\n",
    "    \"\"\"Returns a compiled Sequential Tensorflow model.\"\"\"\n",
    "    model = Sequential()\n",
    "    # Input\n",
    "    model.add(\n",
    "        layers.Dense(X_data_shape[1], \n",
    "                     activation=activation, \n",
    "                     input_shape=(X_data_shape[1],))\n",
    "    )\n",
    "    # Hidden layer\n",
    "    model.add(\n",
    "        layers.Dense((X_data_shape[1] + y_data_shape[1])//2, \n",
    "                     activation=activation)\n",
    "    )\n",
    "    # Output\n",
    "    model.add(layers.Dense(y_data_shape[1], activation=output_activation))\n",
    "    \n",
    "    model.compile(optimizer=optimizer, loss=loss)\n",
    "    return model"
   ]
  },
  {
   "cell_type": "code",
   "execution_count": null,
   "metadata": {},
   "outputs": [],
   "source": [
    "# Process y columns for tensorflow model.\n",
    "ohe = OneHotEncoder(categories='auto', sparse=False)\n",
    "ohe_y_train = ohe.fit_transform(\n",
    "    y_preprocessor.inverse_transform(y_train).reshape(-1, 1)\n",
    ")\n",
    "ohe_y_test = ohe.transform(\n",
    "    y_preprocessor.inverse_transform(y_test).reshape(-1, 1)\n",
    ")\n",
    "\n",
    "ohe_y_train.shape, ohe_y_test.shape"
   ]
  },
  {
   "cell_type": "code",
   "execution_count": null,
   "metadata": {},
   "outputs": [],
   "source": [
    "model = build_model(X_train.shape, ohe_y_train.shape)\n",
    "model.summary()"
   ]
  },
  {
   "cell_type": "code",
   "execution_count": null,
   "metadata": {},
   "outputs": [],
   "source": [
    "history = model.fit(X_train, \n",
    "                    ohe_y_train,\n",
    "                    batch_size=16000,\n",
    "                    epochs=5,\n",
    "                    validation_data=(X_test, ohe_y_test))"
   ]
  },
  {
   "cell_type": "code",
   "execution_count": null,
   "metadata": {},
   "outputs": [],
   "source": []
  },
  {
   "cell_type": "markdown",
   "metadata": {},
   "source": [
    "# Interpret"
   ]
  },
  {
   "cell_type": "code",
   "execution_count": null,
   "metadata": {},
   "outputs": [],
   "source": []
  },
  {
   "cell_type": "code",
   "execution_count": null,
   "metadata": {},
   "outputs": [],
   "source": []
  },
  {
   "cell_type": "code",
   "execution_count": null,
   "metadata": {},
   "outputs": [],
   "source": []
  },
  {
   "cell_type": "code",
   "execution_count": null,
   "metadata": {},
   "outputs": [],
   "source": []
  },
  {
   "cell_type": "code",
   "execution_count": null,
   "metadata": {},
   "outputs": [],
   "source": []
  }
 ],
 "metadata": {
  "kernelspec": {
   "display_name": "Python [conda env:learn-env] *",
   "language": "python",
   "name": "conda-env-learn-env-py"
  },
  "language_info": {
   "codemirror_mode": {
    "name": "ipython",
    "version": 3
   },
   "file_extension": ".py",
   "mimetype": "text/x-python",
   "name": "python",
   "nbconvert_exporter": "python",
   "pygments_lexer": "ipython3",
   "version": "3.6.9"
  },
  "toc": {
   "base_numbering": 1,
   "nav_menu": {},
   "number_sections": true,
   "sideBar": true,
   "skip_h1_title": false,
   "title_cell": "Table of Contents",
   "title_sidebar": "Contents",
   "toc_cell": false,
   "toc_position": {
    "height": "calc(100% - 180px)",
    "left": "10px",
    "top": "150px",
    "width": "360px"
   },
   "toc_section_display": true,
   "toc_window_display": true
  }
 },
 "nbformat": 4,
 "nbformat_minor": 2
}
